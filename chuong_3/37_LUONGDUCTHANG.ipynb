{
 "cells": [
  {
   "cell_type": "markdown",
   "id": "59e4810d",
   "metadata": {},
   "source": [
    "# BÀI TẬP SQL CHƯƠNG 3  \n",
    "# 37_LUONGDUCTHANG  "
   ]
  },
  {
   "cell_type": "markdown",
   "id": "90589270",
   "metadata": {},
   "source": [
    "# Câu 1: Hãy viết câu lệnh SQL để tính sự tương quan giữa A và B theo công thức"
   ]
  },
  {
   "cell_type": "code",
   "execution_count": null,
   "id": "df428839",
   "metadata": {},
   "outputs": [
    {
     "name": "stdout",
     "output_type": "stream",
     "text": [
      "column_A vs column_B: 1.0000\n"
     ]
    }
   ],
   "source": [
    "import sqlite3\n",
    "import math\n",
    "\n",
    "# Kết nối SQLite\n",
    "conn = sqlite3.connect(\"test.db\")\n",
    "cursor = conn.cursor()\n",
    "\n",
    "# Đăng ký các hàm toán học vào SQLite\n",
    "conn.create_function(\"SQRT\", 1, math.sqrt)\n",
    "conn.create_function(\"POWER\", 2, math.pow)\n",
    "\n",
    "# Tạo bảng và thêm dữ liệu\n",
    "cursor.executescript('''\n",
    "DROP TABLE IF EXISTS sample_data;\n",
    "\n",
    "CREATE TABLE sample_data (\n",
    "    id INTEGER PRIMARY KEY,\n",
    "    column_A FLOAT,\n",
    "    column_B FLOAT\n",
    ");\n",
    "\n",
    "INSERT INTO sample_data (id, column_A, column_B) VALUES\n",
    "(1, 10, 8),\n",
    "(2, 9, 7),\n",
    "(3, 8, 6),\n",
    "(4, 7, 5),\n",
    "(5, 6, 4);\n",
    "''')\n",
    "\n",
    "# Tính Pearson correlation trong SQL\n",
    "cursor.execute('''\n",
    "SELECT \n",
    "  'column_A vs column_B' AS pair,\n",
    "  (\n",
    "    COUNT(column_A) * SUM(column_A * column_B) - SUM(column_A) * SUM(column_B)\n",
    "  ) / (\n",
    "    SQRT(COUNT(column_A) * SUM(POWER(column_A, 2)) - POWER(SUM(column_A), 2)) *\n",
    "    SQRT(COUNT(column_B) * SUM(POWER(column_B, 2)) - POWER(SUM(column_B), 2))\n",
    "  ) AS corr_AB\n",
    "FROM sample_data;\n",
    "''')\n",
    "\n",
    "result = cursor.fetchone()\n",
    "print(f\"{result[0]}: {result[1]:.4f}\")\n"
   ]
  },
  {
   "cell_type": "markdown",
   "id": "fa67a91b",
   "metadata": {},
   "source": [
    "# Câu2"
   ]
  },
  {
   "cell_type": "code",
   "execution_count": null,
   "id": "a6c75f28",
   "metadata": {},
   "outputs": [],
   "source": [
    "import sqlite3\n",
    "import pandas as pd\n",
    "\n",
    "conn = sqlite3.connect(\"car.db\")\n",
    "cursor = conn.cursor()"
   ]
  },
  {
   "cell_type": "code",
   "execution_count": 93,
   "id": "7dcf9432",
   "metadata": {},
   "outputs": [],
   "source": [
    "cursor.execute(\"Drop table if exists car_agency\")\n",
    "\n",
    "cursor.execute(\n",
    "    '''create table car_agency(\n",
    "    days TEXT primary key,\n",
    "    A float not null,\n",
    "    B float not null,\n",
    "    C float not null\n",
    "    )'''\n",
    ")\n",
    "\n",
    "conn.commit()"
   ]
  },
  {
   "cell_type": "code",
   "execution_count": 94,
   "id": "5bcee6a3",
   "metadata": {},
   "outputs": [
    {
     "data": {
      "text/plain": [
       "<function Connection.commit()>"
      ]
     },
     "execution_count": 94,
     "metadata": {},
     "output_type": "execute_result"
    }
   ],
   "source": [
    "cursor.executescript('''\n",
    "INSERT INTO car_agency (days,A,B,C) values\n",
    "('day1', 8,9,7),\n",
    "('day2', 7.5,8.5,7),\n",
    "('day3', 6,7,8),\n",
    "('day4', 7,6,5);\n",
    "''')\n",
    "\n",
    "conn.commit"
   ]
  },
  {
   "cell_type": "code",
   "execution_count": 95,
   "id": "592e5f76",
   "metadata": {},
   "outputs": [
    {
     "name": "stdout",
     "output_type": "stream",
     "text": [
      "('day1', 8.0, 9.0, 7.0)\n",
      "('day2', 7.5, 8.5, 7.0)\n",
      "('day3', 6.0, 7.0, 8.0)\n",
      "('day4', 7.0, 6.0, 5.0)\n"
     ]
    }
   ],
   "source": [
    "cursor.execute(\" select * from car_agency\")\n",
    "\n",
    "rows = cursor.fetchall()\n",
    "for row in rows:\n",
    "    print(row)"
   ]
  },
  {
   "cell_type": "markdown",
   "id": "c85e76c1",
   "metadata": {},
   "source": [
    "chuyển dạng bảng ban đầu sang dạng quan hệ"
   ]
  },
  {
   "cell_type": "code",
   "execution_count": 96,
   "id": "621e6e27",
   "metadata": {},
   "outputs": [],
   "source": [
    "cursor.execute(\"drop table if exists car_score\")\n",
    "\n",
    "cursor.execute('''\n",
    "                    create table car_score(\n",
    "                    day TEXT,\n",
    "                    car_model TEXT,\n",
    "                    score REAL)\n",
    "\n",
    "''')\n",
    "\n",
    "conn.commit()"
   ]
  },
  {
   "cell_type": "code",
   "execution_count": 97,
   "id": "116458d7",
   "metadata": {},
   "outputs": [],
   "source": [
    "cursor.executescript('''\n",
    "INSERT INTO car_score (day, car_model, score) VALUES\n",
    "('day 1', 'A', 8),\n",
    "('Day 1', 'B', 9),\n",
    "('Day 1', 'C', 7),\n",
    "('Day 2', 'A', 7.5),\n",
    "('Day 2', 'B', 8.5),\n",
    "('Day 2', 'C', 7),\n",
    "('Day 3', 'A', 6),\n",
    "('Day 3', 'B', 7),\n",
    "('Day 3', 'C', 8),\n",
    "('Day 4', 'A', 7),\n",
    "('Day 4', 'B', 6),\n",
    "('Day 4', 'C', 5);\n",
    "''')\n",
    "\n",
    "conn.commit()"
   ]
  },
  {
   "cell_type": "code",
   "execution_count": 98,
   "id": "2dcb40e3",
   "metadata": {},
   "outputs": [
    {
     "name": "stdout",
     "output_type": "stream",
     "text": [
      "('day 1', 'A', 8.0)\n",
      "('Day 1', 'B', 9.0)\n",
      "('Day 1', 'C', 7.0)\n",
      "('Day 2', 'A', 7.5)\n",
      "('Day 2', 'B', 8.5)\n",
      "('Day 2', 'C', 7.0)\n",
      "('Day 3', 'A', 6.0)\n",
      "('Day 3', 'B', 7.0)\n",
      "('Day 3', 'C', 8.0)\n",
      "('Day 4', 'A', 7.0)\n",
      "('Day 4', 'B', 6.0)\n",
      "('Day 4', 'C', 5.0)\n"
     ]
    }
   ],
   "source": [
    "cursor.execute(\"select * from car_score\")\n",
    "\n",
    "rows = cursor.fetchall()\n",
    "for row in rows:\n",
    "    print(row)"
   ]
  },
  {
   "cell_type": "markdown",
   "id": "f5b8963b",
   "metadata": {},
   "source": [
    "Kiểm định χ² (Chi-squared test) dùng cho dữ liệu phân loại (categorical), không phải dữ liệu liên tục như điểm số nên ta phải nhóm chúng lại trước khi thực hiện    \n",
    "\n",
    "score được nhóm như sau:       \n",
    "[0-5): kém  \n",
    "[5-7): trung bình   \n",
    "[7-9): tốt  \n",
    "[9-10]: rất tốt "
   ]
  },
  {
   "cell_type": "markdown",
   "id": "9ccfad41",
   "metadata": {},
   "source": [
    "phân loại điểm số"
   ]
  },
  {
   "cell_type": "code",
   "execution_count": 99,
   "id": "78d121fa",
   "metadata": {},
   "outputs": [],
   "source": [
    "cursor.execute(\"DROP VIEW IF EXISTS car_scores_classifieds\")\n",
    "\n",
    "cursor.execute('''\n",
    "CREATE VIEW car_scores_classifieds AS\n",
    "SELECT\n",
    "    day,\n",
    "    car_model,\n",
    "    score,\n",
    "    CASE\n",
    "        WHEN score < 5 THEN 'Kém'\n",
    "        WHEN score >= 5 AND score < 7 THEN 'Trung bình'\n",
    "        WHEN score >= 7 AND score < 9 THEN 'Tốt'\n",
    "        ELSE 'Rất tốt'\n",
    "    END AS category\n",
    "FROM car_score;\n",
    "''')\n",
    "\n",
    "conn.commit()\n"
   ]
  },
  {
   "cell_type": "markdown",
   "id": "0b6101bb",
   "metadata": {},
   "source": [
    "đếm tần suất cho từng loại điểm theo từng mẫu"
   ]
  },
  {
   "cell_type": "code",
   "execution_count": 100,
   "id": "6ea0203d",
   "metadata": {},
   "outputs": [
    {
     "name": "stdout",
     "output_type": "stream",
     "text": [
      "('A', 'Trung bình', 1)\n",
      "('A', 'Tốt', 3)\n",
      "('B', 'Rất tốt', 1)\n",
      "('B', 'Trung bình', 1)\n",
      "('B', 'Tốt', 2)\n",
      "('C', 'Trung bình', 1)\n",
      "('C', 'Tốt', 3)\n"
     ]
    }
   ],
   "source": [
    "cursor.execute('''\n",
    "SELECT car_model, category, COUNT(*) as count\n",
    "FROM car_scores_classifieds\n",
    "GROUP BY car_model, category\n",
    "ORDER BY car_model, category;\n",
    "\n",
    "''')\n",
    "\n",
    "conn.commit()\n",
    "\n",
    "rows = cursor.fetchall()\n",
    "for row in rows:\n",
    "    print(row)"
   ]
  },
  {
   "cell_type": "markdown",
   "id": "18870d4f",
   "metadata": {},
   "source": [
    "kiểm điểm X^2"
   ]
  },
  {
   "cell_type": "code",
   "execution_count": 101,
   "id": "d5ab6f49",
   "metadata": {},
   "outputs": [
    {
     "name": "stdout",
     "output_type": "stream",
     "text": [
      "  car_model    category  count\n",
      "0         A  Trung bình      1\n",
      "1         A         Tốt      3\n",
      "2         B     Rất tốt      1\n",
      "3         B  Trung bình      1\n",
      "4         B         Tốt      2\n",
      "5         C  Trung bình      1\n",
      "6         C         Tốt      3\n"
     ]
    }
   ],
   "source": [
    "import pandas as pd\n",
    "\n",
    "df = pd.read_sql_query('''\n",
    "SELECT car_model, category, COUNT(*) as count\n",
    "FROM car_scores_classifieds\n",
    "GROUP BY car_model, category\n",
    "''', conn)\n",
    "\n",
    "print(df)\n"
   ]
  },
  {
   "cell_type": "code",
   "execution_count": 102,
   "id": "446e08c6",
   "metadata": {},
   "outputs": [
    {
     "name": "stdout",
     "output_type": "stream",
     "text": [
      "category   Rất tốt  Trung bình  Tốt\n",
      "car_model                          \n",
      "A              0.0         1.0  3.0\n",
      "B              1.0         1.0  2.0\n",
      "C              0.0         1.0  3.0\n",
      "Chi-squared: 2.25\n",
      "p-value: 0.6898864931364932\n",
      "Degrees of freedom: 4\n"
     ]
    }
   ],
   "source": [
    "from scipy.stats import chi2_contingency\n",
    "\n",
    "# Pivot để có ma trận tần suất\n",
    "table = df.pivot(index='car_model', columns='category', values='count').fillna(0)\n",
    "print(table)\n",
    "\n",
    "chi2, p, dof, expected = chi2_contingency(table)\n",
    "print(\"Chi-squared:\", chi2)\n",
    "print(\"p-value:\", p)\n",
    "print(\"Degrees of freedom:\", dof)\n"
   ]
  },
  {
   "cell_type": "markdown",
   "id": "789350ca",
   "metadata": {},
   "source": [
    "- Kết quả kiểm định Chi-squared:\n",
    "Giá trị Chi-squared = 2.25\n",
    "\n",
    "p-value = 0.6899\n",
    "\n",
    "Degrees of freedom = 4\n",
    "\n",
    "Vì p-value lớn hơn 0.05, ta không có đủ bằng chứng thống kê để bác bỏ giả thuyết không (H₀), tức là:\n",
    "\n",
    "Không có sự khác biệt đáng kể về điểm số giữa các mẫu xe."
   ]
  },
  {
   "cell_type": "markdown",
   "id": "2f1a2b83",
   "metadata": {},
   "source": [
    "- Kết luận:\n",
    "Không có mẫu xe nào nổi bật một cách đáng kể.\n",
    "\n",
    "Phân phối điểm số không phụ thuộc vào loại xe."
   ]
  },
  {
   "cell_type": "markdown",
   "id": "bbe25311",
   "metadata": {},
   "source": [
    "câu 3"
   ]
  },
  {
   "cell_type": "code",
   "execution_count": 106,
   "id": "88426e71",
   "metadata": {},
   "outputs": [
    {
     "name": "stdout",
     "output_type": "stream",
     "text": [
      "Raw: 830 -> Formatted: 08:30\n",
      "Raw: 1445 -> Formatted: 14:45\n",
      "Raw: 0 -> Formatted: 00:00\n",
      "Raw: 1130 -> Formatted: 11:30\n",
      "Raw: 2359 -> Formatted: 23:59\n"
     ]
    }
   ],
   "source": [
    "import sqlite3\n",
    "\n",
    "# Kết nối SQLite\n",
    "conn = sqlite3.connect(\":memory:\")\n",
    "cursor = conn.cursor()\n",
    "\n",
    "# Tạo bảng flights và thêm dữ liệu mẫu\n",
    "cursor.executescript(\"\"\"\n",
    "DROP TABLE IF EXISTS flights;\n",
    "\n",
    "CREATE TABLE flights (\n",
    "    id INTEGER PRIMARY KEY,\n",
    "    departure_time INTEGER\n",
    ");\n",
    "\n",
    "INSERT INTO flights (departure_time) VALUES\n",
    "(830),\n",
    "(1445),\n",
    "(0),\n",
    "(1130),\n",
    "(2359);\n",
    "\"\"\")\n",
    "\n",
    "cursor.execute(\"\"\"\n",
    "SELECT\n",
    "  departure_time,\n",
    "  printf('%02d:%02d', departure_time / 100, departure_time % 100) AS formatted_time\n",
    "FROM flights;\n",
    "\"\"\")\n",
    "\n",
    "# Hiển thị kết quả\n",
    "rows = cursor.fetchall()\n",
    "for row in rows:\n",
    "    print(f\"Raw: {row[0]} -> Formatted: {row[1]}\")\n"
   ]
  },
  {
   "cell_type": "markdown",
   "id": "79e08105",
   "metadata": {},
   "source": [
    "câu 4"
   ]
  },
  {
   "cell_type": "code",
   "execution_count": 107,
   "id": "9f0a5a22",
   "metadata": {},
   "outputs": [
    {
     "data": {
      "text/plain": [
       "<sqlite3.Cursor at 0x261c2dae2c0>"
      ]
     },
     "execution_count": 107,
     "metadata": {},
     "output_type": "execute_result"
    }
   ],
   "source": [
    "import sqlite3\n",
    "conn = sqlite3.connect(\":memory:\")\n",
    "cursor = conn.cursor()\n",
    "\n",
    "cursor.executescript('''\n",
    "DROP TABLE IF EXISTS sample_data;\n",
    "\n",
    "CREATE TABLE sample_data (\n",
    "    id INTEGER PRIMARY KEY,\n",
    "    value REAL\n",
    ");\n",
    "\n",
    "INSERT INTO sample_data (value) VALUES\n",
    "(10), (12), (13), (12), (12), (11), (14), (100); -- 100 là giá trị ngoại lệ\n",
    "''')\n"
   ]
  },
  {
   "cell_type": "markdown",
   "id": "79c83c5a",
   "metadata": {},
   "source": [
    "Tính toán giá trị trung vị (median)"
   ]
  },
  {
   "cell_type": "code",
   "execution_count": 108,
   "id": "0aabb0fa",
   "metadata": {},
   "outputs": [
    {
     "name": "stdout",
     "output_type": "stream",
     "text": [
      "Median: 12.0\n"
     ]
    }
   ],
   "source": [
    "# Lấy danh sách giá trị và tính median trong Python\n",
    "cursor.execute(\"SELECT value FROM sample_data ORDER BY value\")\n",
    "values = [row[0] for row in cursor.fetchall()]\n",
    "n = len(values)\n",
    "\n",
    "if n % 2 == 1:\n",
    "    median = values[n // 2]\n",
    "else:\n",
    "    median = (values[n // 2 - 1] + values[n // 2]) / 2\n",
    "\n",
    "print(f\"Median: {median}\")\n"
   ]
  },
  {
   "cell_type": "markdown",
   "id": "1d74364b",
   "metadata": {},
   "source": [
    "Tính MAD và phát hiện ngoại lệ"
   ]
  },
  {
   "cell_type": "code",
   "execution_count": 109,
   "id": "1a76e30e",
   "metadata": {},
   "outputs": [
    {
     "name": "stdout",
     "output_type": "stream",
     "text": [
      "MAD: 1.0\n"
     ]
    }
   ],
   "source": [
    "# Tạo bảng tạm chứa độ lệch tuyệt đối\n",
    "cursor.execute(\"DROP TABLE IF EXISTS abs_deviation\")\n",
    "cursor.execute(\"CREATE TABLE abs_deviation AS SELECT ABS(value - ?) AS deviation FROM sample_data\", (median,))\n",
    "\n",
    "# Lấy MAD (trung vị của deviation)\n",
    "cursor.execute(\"SELECT deviation FROM abs_deviation ORDER BY deviation\")\n",
    "devs = [row[0] for row in cursor.fetchall()]\n",
    "n_dev = len(devs)\n",
    "\n",
    "if n_dev % 2 == 1:\n",
    "    mad = devs[n_dev // 2]\n",
    "else:\n",
    "    mad = (devs[n_dev // 2 - 1] + devs[n_dev // 2]) / 2\n",
    "\n",
    "print(f\"MAD: {mad}\")\n"
   ]
  },
  {
   "cell_type": "markdown",
   "id": "ac8e1893",
   "metadata": {},
   "source": [
    "Truy vấn phát hiện ngoại lệ"
   ]
  },
  {
   "cell_type": "code",
   "execution_count": null,
   "id": "31f55edb",
   "metadata": {},
   "outputs": [
    {
     "name": "stdout",
     "output_type": "stream",
     "text": [
      "Các ngoại lệ (outliers):\n",
      "(1, 10.0)\n",
      "(7, 14.0)\n",
      "(8, 100.0)\n"
     ]
    }
   ],
   "source": [
    "threshold = 1.5 * mad\n",
    "\n",
    "# |value - 12| > 1.5 * 1.0 = 1.5\n",
    "cursor.execute(\"SELECT id, value FROM sample_data WHERE ABS(value - ?) > ?\", (median, threshold))\n",
    "outliers = cursor.fetchall()\n",
    "\n",
    "print(\"Các ngoại lệ (outliers):\")\n",
    "for row in outliers:\n",
    "    print(row)\n"
   ]
  },
  {
   "cell_type": "markdown",
   "id": "81aa5c2a",
   "metadata": {},
   "source": [
    "Nhận xét:\n",
    "Các điểm như 10, 14 lệch tương đối nhẹ nhưng vẫn vượt ngưỡng → ngoại lệ nhẹ.\n",
    "\n",
    "100 là một ngoại lệ rất mạnh, rõ ràng khác biệt với phần còn lại → có thể là lỗi hoặc dữ liệu đáng kiểm tra lại."
   ]
  },
  {
   "cell_type": "code",
   "execution_count": 112,
   "id": "45b146e2",
   "metadata": {},
   "outputs": [
    {
     "name": "stdout",
     "output_type": "stream",
     "text": [
      "(1, 2, 'Nguyen', 'Nguyen', 60.0, 61.0, 1, 1, 'Có thể là cùng người')\n",
      "(1, 3, 'Nguyen', 'Le', 60.0, 80.0, 0, 0, 'Khác người')\n",
      "(1, 4, 'Nguyen', 'Nguyen', 60.0, 95.0, 1, 0, 'Khác người')\n",
      "(2, 3, 'Nguyen', 'Le', 61.0, 80.0, 0, 0, 'Khác người')\n",
      "(2, 4, 'Nguyen', 'Nguyen', 61.0, 95.0, 1, 0, 'Khác người')\n",
      "(3, 4, 'Le', 'Nguyen', 80.0, 95.0, 0, 0, 'Khác người')\n"
     ]
    }
   ],
   "source": [
    "import sqlite3\n",
    "\n",
    "# Kết nối SQLite\n",
    "conn = sqlite3.connect(\"patient.db\")  # Dùng bộ nhớ tạm\n",
    "cursor = conn.cursor()\n",
    "\n",
    "# 1. Tạo bảng Patient và chèn dữ liệu mẫu\n",
    "cursor.executescript(\"\"\"\n",
    "DROP TABLE IF EXISTS Patient;\n",
    "\n",
    "CREATE TABLE Patient (\n",
    "    id INTEGER PRIMARY KEY,\n",
    "    last_name TEXT,\n",
    "    weight REAL,\n",
    "    height REAL\n",
    ");\n",
    "\n",
    "INSERT INTO Patient (id, last_name, weight, height) VALUES\n",
    "(1, 'Nguyen', 60, 165),\n",
    "(2, 'Nguyen', 61, 165),\n",
    "(3, 'Le',     80, 170),\n",
    "(4, 'Nguyen', 95, 180);\n",
    "\"\"\")\n",
    "\n",
    "# 2. Truy vấn xác định khả năng trùng\n",
    "cursor.execute(\"\"\"\n",
    "SELECT \n",
    "    p1.id AS id1,\n",
    "    p2.id AS id2,\n",
    "    p1.last_name,\n",
    "    p2.last_name,\n",
    "    p1.weight,\n",
    "    p2.weight,\n",
    "    CASE WHEN p1.last_name = p2.last_name THEN 1 ELSE 0 END AS last_name_match,\n",
    "    CASE WHEN ABS(p1.weight - p2.weight) <= 2 THEN 1 ELSE 0 END AS weight_match,\n",
    "    CASE \n",
    "        WHEN (p1.last_name = p2.last_name) AND (ABS(p1.weight - p2.weight) <= 2) \n",
    "        THEN 'Có thể là cùng người'\n",
    "        ELSE 'Khác người'\n",
    "    END AS match_result\n",
    "FROM Patient p1\n",
    "JOIN Patient p2 ON p1.id < p2.id;\n",
    "\"\"\")\n",
    "\n",
    "# 3. In kết quả\n",
    "rows = cursor.fetchall()\n",
    "for row in rows:\n",
    "    print(row)\n",
    "\n",
    "# Đóng kết nối\n",
    "conn.close()\n"
   ]
  }
 ],
 "metadata": {
  "kernelspec": {
   "display_name": "base",
   "language": "python",
   "name": "python3"
  },
  "language_info": {
   "codemirror_mode": {
    "name": "ipython",
    "version": 3
   },
   "file_extension": ".py",
   "mimetype": "text/x-python",
   "name": "python",
   "nbconvert_exporter": "python",
   "pygments_lexer": "ipython3",
   "version": "3.11.4"
  }
 },
 "nbformat": 4,
 "nbformat_minor": 5
}
